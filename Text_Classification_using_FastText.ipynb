{
  "nbformat": 4,
  "nbformat_minor": 0,
  "metadata": {
    "colab": {
      "name": "Text Classification using FastText.ipynb",
      "provenance": [],
      "collapsed_sections": [],
      "authorship_tag": "ABX9TyPah+TUgZt+64HFw9ORbZe1",
      "include_colab_link": true
    },
    "kernelspec": {
      "name": "python3",
      "display_name": "Python 3"
    },
    "language_info": {
      "name": "python"
    }
  },
  "cells": [
    {
      "cell_type": "markdown",
      "metadata": {
        "id": "view-in-github",
        "colab_type": "text"
      },
      "source": [
        "<a href=\"https://colab.research.google.com/github/Alihassan7726/Word-Embeddings-/blob/main/Text_Classification_using_FastText.ipynb\" target=\"_parent\"><img src=\"https://colab.research.google.com/assets/colab-badge.svg\" alt=\"Open In Colab\"/></a>"
      ]
    },
    {
      "cell_type": "code",
      "metadata": {
        "colab": {
          "base_uri": "https://localhost:8080/"
        },
        "id": "ACzDDaN3dPQp",
        "outputId": "96756643-f156-4829-e73a-3e74eeb5c3a5"
      },
      "source": [
        "from google.colab import drive\n",
        "drive.mount('/content/drive')"
      ],
      "execution_count": null,
      "outputs": [
        {
          "output_type": "stream",
          "text": [
            "Mounted at /content/drive\n"
          ],
          "name": "stdout"
        }
      ]
    },
    {
      "cell_type": "code",
      "metadata": {
        "id": "LGEuG2iteClv"
      },
      "source": [
        "import pandas as pd\n",
        "import numpy as np\n",
        "import sklearn\n",
        "from sklearn.model_selection import train_test_split\n"
      ],
      "execution_count": null,
      "outputs": []
    },
    {
      "cell_type": "code",
      "metadata": {
        "colab": {
          "base_uri": "https://localhost:8080/"
        },
        "id": "TladpfJnfoTY",
        "outputId": "e56fbc79-064e-4468-aec6-9cb5581828ba"
      },
      "source": [
        "cd"
      ],
      "execution_count": null,
      "outputs": [
        {
          "output_type": "stream",
          "text": [
            "/root\n"
          ],
          "name": "stdout"
        }
      ]
    },
    {
      "cell_type": "code",
      "metadata": {
        "colab": {
          "base_uri": "https://localhost:8080/",
          "height": 459
        },
        "id": "7Eiff3M4frlD",
        "outputId": "d991f172-4c32-46ee-afa7-ce02c8e313e9"
      },
      "source": [
        "df = pd.read_csv('/content/drive/MyDrive/Colab DataSets/Clean_data.csv')\n",
        "df.head()"
      ],
      "execution_count": null,
      "outputs": [
        {
          "output_type": "execute_result",
          "data": {
            "text/html": [
              "<div>\n",
              "<style scoped>\n",
              "    .dataframe tbody tr th:only-of-type {\n",
              "        vertical-align: middle;\n",
              "    }\n",
              "\n",
              "    .dataframe tbody tr th {\n",
              "        vertical-align: top;\n",
              "    }\n",
              "\n",
              "    .dataframe thead th {\n",
              "        text-align: right;\n",
              "    }\n",
              "</style>\n",
              "<table border=\"1\" class=\"dataframe\">\n",
              "  <thead>\n",
              "    <tr style=\"text-align: right;\">\n",
              "      <th></th>\n",
              "      <th>Unnamed: 0</th>\n",
              "      <th>Lead Name</th>\n",
              "      <th>Location</th>\n",
              "      <th>Status</th>\n",
              "      <th>Status information</th>\n",
              "      <th>Clean-status</th>\n",
              "      <th>clean_sent</th>\n",
              "      <th>Text</th>\n",
              "    </tr>\n",
              "  </thead>\n",
              "  <tbody>\n",
              "    <tr>\n",
              "      <th>0</th>\n",
              "      <td>0</td>\n",
              "      <td>Raja</td>\n",
              "      <td>hyderabad</td>\n",
              "      <td>0</td>\n",
              "      <td>14/8/prema: share me details, available in evng 18/8/prema: postponed the plans for training currently 9/11/prema: not interested now</td>\n",
              "      <td>['prema', 'share', 'detail', 'available', 'evng', 'prema', 'postpone', 'plan', 'train', 'currently', 'prema', 'not', 'interest']</td>\n",
              "      <td>prema share detail available evng prema postpone plan train currently prema not interest</td>\n",
              "      <td>hyderabad prema share detail available evng prema postpone plan train currently prema not interest Raja</td>\n",
              "    </tr>\n",
              "    <tr>\n",
              "      <th>1</th>\n",
              "      <td>1</td>\n",
              "      <td>Anirudh Reddy</td>\n",
              "      <td>pune</td>\n",
              "      <td>0</td>\n",
              "      <td>14/8/prema: cal me tmrw, shared details to email 16/8/prema: share details to email, will check n revert 18/8/prema: received your email, i'm looking for ASQ certification</td>\n",
              "      <td>['prema', 'cal', 'share', 'detail', 'email', 'prema', 'share', 'detail', 'email', 'check', 'n', 'revert', 'prema', 'receive', 'email', 'look', 'asq', 'certification']</td>\n",
              "      <td>prema cal share detail email prema share detail email check n revert prema receive email look asq certification</td>\n",
              "      <td>pune prema cal share detail email prema share detail email check n revert prema receive email look asq certification Anirudh Reddy</td>\n",
              "    </tr>\n",
              "    <tr>\n",
              "      <th>2</th>\n",
              "      <td>2</td>\n",
              "      <td>Sapna Dewani</td>\n",
              "      <td>bangalore</td>\n",
              "      <td>1</td>\n",
              "      <td>16|AuG|moHan:rnr</td>\n",
              "      <td>['aug', 'mohan', 'rnr']</td>\n",
              "      <td>aug mohan rnr</td>\n",
              "      <td>bangalore aug mohan rnr Sapna Dewani</td>\n",
              "    </tr>\n",
              "    <tr>\n",
              "      <th>3</th>\n",
              "      <td>3</td>\n",
              "      <td>suresh</td>\n",
              "      <td>mumbai</td>\n",
              "      <td>0</td>\n",
              "      <td>14/8/17(Surendra):i want only Server 16|AuG|moHan:cal busy 17|AuG|moHan:reg for server</td>\n",
              "      <td>['surendra', 'want', 'server', 'aug', 'mohan', 'cal', 'busy', 'aug', 'mohan', 'reg', 'server']</td>\n",
              "      <td>surendra want server aug mohan cal busy aug mohan reg server</td>\n",
              "      <td>mumbai surendra want server aug mohan cal busy aug mohan reg server suresh</td>\n",
              "    </tr>\n",
              "    <tr>\n",
              "      <th>4</th>\n",
              "      <td>4</td>\n",
              "      <td>Akshay Shinde</td>\n",
              "      <td>hyderabad</td>\n",
              "      <td>0</td>\n",
              "      <td>14/8/prema:rnr 16/8/prema: gave info, he said he will revert in 1hr 30/8/prema: planning for next month, share details</td>\n",
              "      <td>['prema', 'rnr', 'prema', 'give', 'info', 'say', 'revert', 'hr', 'prema', 'plan', 'next', 'month', 'share', 'detail']</td>\n",
              "      <td>prema rnr prema give info say revert hr prema plan next month share detail</td>\n",
              "      <td>hyderabad prema rnr prema give info say revert hr prema plan next month share detail Akshay Shinde</td>\n",
              "    </tr>\n",
              "  </tbody>\n",
              "</table>\n",
              "</div>"
            ],
            "text/plain": [
              "   Unnamed: 0  ...                                                                                                                                Text\n",
              "0           0  ...                             hyderabad prema share detail available evng prema postpone plan train currently prema not interest Raja\n",
              "1           1  ...  pune prema cal share detail email prema share detail email check n revert prema receive email look asq certification Anirudh Reddy\n",
              "2           2  ...                                                                                                bangalore aug mohan rnr Sapna Dewani\n",
              "3           3  ...                                                          mumbai surendra want server aug mohan cal busy aug mohan reg server suresh\n",
              "4           4  ...                                  hyderabad prema rnr prema give info say revert hr prema plan next month share detail Akshay Shinde\n",
              "\n",
              "[5 rows x 8 columns]"
            ]
          },
          "metadata": {
            "tags": []
          },
          "execution_count": 10
        }
      ]
    },
    {
      "cell_type": "code",
      "metadata": {
        "colab": {
          "base_uri": "https://localhost:8080/"
        },
        "id": "YYz8cE84gprO",
        "outputId": "7dae0c1f-884c-4ee8-9920-20dd0eb2a9f7"
      },
      "source": [
        "pd.set_option('max_colwidth',1000)\n",
        "df['Text'] = df['Text'].apply(lambda x : x.lower())\n",
        "df['Text'].head()"
      ],
      "execution_count": null,
      "outputs": [
        {
          "output_type": "execute_result",
          "data": {
            "text/plain": [
              "0                               hyderabad prema share detail available evng prema postpone plan train currently prema not interest raja\n",
              "1    pune prema cal share detail email prema share detail email check n revert prema receive email look asq certification anirudh reddy\n",
              "2                                                                                                  bangalore aug mohan rnr sapna dewani\n",
              "3                                                            mumbai surendra want server aug mohan cal busy aug mohan reg server suresh\n",
              "4                                    hyderabad prema rnr prema give info say revert hr prema plan next month share detail akshay shinde\n",
              "Name: Text, dtype: object"
            ]
          },
          "metadata": {
            "tags": []
          },
          "execution_count": 11
        }
      ]
    },
    {
      "cell_type": "code",
      "metadata": {
        "colab": {
          "base_uri": "https://localhost:8080/"
        },
        "id": "cbgyxFg4f5_8",
        "outputId": "ce9f592d-93e4-4126-ac72-1f5114df39d4"
      },
      "source": [
        "#pip install pickle5"
      ],
      "execution_count": null,
      "outputs": [
        {
          "output_type": "stream",
          "text": [
            "Collecting pickle5\n",
            "\u001b[?25l  Downloading https://files.pythonhosted.org/packages/f7/4c/5c4dd0462c8d3a6bc4af500a6af240763c2ebd1efdc736fc2c946d44b70a/pickle5-0.0.11.tar.gz (132kB)\n",
            "\r\u001b[K     |██▌                             | 10kB 14.9MB/s eta 0:00:01\r\u001b[K     |█████                           | 20kB 21.2MB/s eta 0:00:01\r\u001b[K     |███████▍                        | 30kB 11.6MB/s eta 0:00:01\r\u001b[K     |██████████                      | 40kB 8.9MB/s eta 0:00:01\r\u001b[K     |████████████▍                   | 51kB 10.4MB/s eta 0:00:01\r\u001b[K     |██████████████▉                 | 61kB 10.9MB/s eta 0:00:01\r\u001b[K     |█████████████████▍              | 71kB 8.3MB/s eta 0:00:01\r\u001b[K     |███████████████████▉            | 81kB 8.0MB/s eta 0:00:01\r\u001b[K     |██████████████████████▎         | 92kB 7.6MB/s eta 0:00:01\r\u001b[K     |████████████████████████▉       | 102kB 8.3MB/s eta 0:00:01\r\u001b[K     |███████████████████████████▎    | 112kB 8.3MB/s eta 0:00:01\r\u001b[K     |█████████████████████████████▊  | 122kB 8.3MB/s eta 0:00:01\r\u001b[K     |████████████████████████████████| 133kB 8.3MB/s \n",
            "\u001b[?25hBuilding wheels for collected packages: pickle5\n",
            "  Building wheel for pickle5 (setup.py) ... \u001b[?25l\u001b[?25hdone\n",
            "  Created wheel for pickle5: filename=pickle5-0.0.11-cp37-cp37m-linux_x86_64.whl size=219254 sha256=8b380cd9743cb31be61f70339e4137ea1bb07a139b636d7b7f0b83cb589c74ff\n",
            "  Stored in directory: /root/.cache/pip/wheels/a6/90/95/f889ca4aa8b0e0c7f21c8470b6f5d6032f0390a3a141a9a3bd\n",
            "Successfully built pickle5\n",
            "Installing collected packages: pickle5\n",
            "Successfully installed pickle5-0.0.11\n"
          ],
          "name": "stdout"
        }
      ]
    },
    {
      "cell_type": "code",
      "metadata": {
        "id": "HmELEtlWgRgL"
      },
      "source": [
        "import pickle5 as pickle"
      ],
      "execution_count": null,
      "outputs": []
    },
    {
      "cell_type": "code",
      "metadata": {
        "colab": {
          "base_uri": "https://localhost:8080/"
        },
        "id": "zU7Jky_ygzz9",
        "outputId": "df13e8d8-66b6-4166-df42-b31102c9ff70"
      },
      "source": [
        "!wget https://github.com/facebookresearch/fastText/archive/v0.1.0.zip\n"
      ],
      "execution_count": null,
      "outputs": [
        {
          "output_type": "stream",
          "text": [
            "--2021-04-20 15:31:49--  https://github.com/facebookresearch/fastText/archive/v0.1.0.zip\n",
            "Resolving github.com (github.com)... 52.192.72.89\n",
            "Connecting to github.com (github.com)|52.192.72.89|:443... connected.\n",
            "HTTP request sent, awaiting response... 302 Found\n",
            "Location: https://codeload.github.com/facebookresearch/fastText/zip/v0.1.0 [following]\n",
            "--2021-04-20 15:31:50--  https://codeload.github.com/facebookresearch/fastText/zip/v0.1.0\n",
            "Resolving codeload.github.com (codeload.github.com)... 13.112.159.149\n",
            "Connecting to codeload.github.com (codeload.github.com)|13.112.159.149|:443... connected.\n",
            "HTTP request sent, awaiting response... 200 OK\n",
            "Length: unspecified [application/zip]\n",
            "Saving to: ‘v0.1.0.zip’\n",
            "\n",
            "v0.1.0.zip              [  <=>               ]  92.06K   282KB/s    in 0.3s    \n",
            "\n",
            "2021-04-20 15:31:51 (282 KB/s) - ‘v0.1.0.zip’ saved [94267]\n",
            "\n"
          ],
          "name": "stdout"
        }
      ]
    },
    {
      "cell_type": "code",
      "metadata": {
        "colab": {
          "base_uri": "https://localhost:8080/"
        },
        "id": "Ce5yNtKzjk-I",
        "outputId": "17ca5b27-8be8-4a01-e2df-6304169c6026"
      },
      "source": [
        "!unzip v0.1.0.zip\n"
      ],
      "execution_count": null,
      "outputs": [
        {
          "output_type": "stream",
          "text": [
            "Archive:  v0.1.0.zip\n",
            "431c9e2a9b5149369cc60fb9f5beba58dcf8ca17\n",
            "   creating: fastText-0.1.0/\n",
            "  inflating: fastText-0.1.0/.gitignore  \n",
            "  inflating: fastText-0.1.0/CONTRIBUTING.md  \n",
            "  inflating: fastText-0.1.0/LICENSE  \n",
            "  inflating: fastText-0.1.0/Makefile  \n",
            "  inflating: fastText-0.1.0/PATENTS  \n",
            "  inflating: fastText-0.1.0/README.md  \n",
            "  inflating: fastText-0.1.0/classification-example.sh  \n",
            "  inflating: fastText-0.1.0/classification-results.sh  \n",
            "  inflating: fastText-0.1.0/eval.py  \n",
            "  inflating: fastText-0.1.0/get-wikimedia.sh  \n",
            "  inflating: fastText-0.1.0/pretrained-vectors.md  \n",
            "  inflating: fastText-0.1.0/quantization-example.sh  \n",
            "  inflating: fastText-0.1.0/quantization-results.sh  \n",
            "   creating: fastText-0.1.0/src/\n",
            "  inflating: fastText-0.1.0/src/args.cc  \n",
            "  inflating: fastText-0.1.0/src/args.h  \n",
            "  inflating: fastText-0.1.0/src/dictionary.cc  \n",
            "  inflating: fastText-0.1.0/src/dictionary.h  \n",
            "  inflating: fastText-0.1.0/src/fasttext.cc  \n",
            "  inflating: fastText-0.1.0/src/fasttext.h  \n",
            "  inflating: fastText-0.1.0/src/main.cc  \n",
            "  inflating: fastText-0.1.0/src/matrix.cc  \n",
            "  inflating: fastText-0.1.0/src/matrix.h  \n",
            "  inflating: fastText-0.1.0/src/model.cc  \n",
            "  inflating: fastText-0.1.0/src/model.h  \n",
            "  inflating: fastText-0.1.0/src/productquantizer.cc  \n",
            "  inflating: fastText-0.1.0/src/productquantizer.h  \n",
            "  inflating: fastText-0.1.0/src/qmatrix.cc  \n",
            "  inflating: fastText-0.1.0/src/qmatrix.h  \n",
            "  inflating: fastText-0.1.0/src/real.h  \n",
            "  inflating: fastText-0.1.0/src/utils.cc  \n",
            "  inflating: fastText-0.1.0/src/utils.h  \n",
            "  inflating: fastText-0.1.0/src/vector.cc  \n",
            "  inflating: fastText-0.1.0/src/vector.h  \n",
            "   creating: fastText-0.1.0/tutorials/\n",
            "  inflating: fastText-0.1.0/tutorials/cbo_vs_skipgram.png  \n",
            "  inflating: fastText-0.1.0/tutorials/supervised-learning.md  \n",
            "  inflating: fastText-0.1.0/tutorials/unsupervised-learning.md  \n",
            "  inflating: fastText-0.1.0/wikifil.pl  \n",
            "  inflating: fastText-0.1.0/word-vector-example.sh  \n"
          ],
          "name": "stdout"
        }
      ]
    },
    {
      "cell_type": "code",
      "metadata": {
        "colab": {
          "base_uri": "https://localhost:8080/"
        },
        "id": "RrdgnYpFj3yv",
        "outputId": "0916e088-7747-4114-cb29-d70ccab6f6b1"
      },
      "source": [
        "cd fastText-0.1.0\n"
      ],
      "execution_count": null,
      "outputs": [
        {
          "output_type": "stream",
          "text": [
            "/root/fastText-0.1.0\n"
          ],
          "name": "stdout"
        }
      ]
    },
    {
      "cell_type": "code",
      "metadata": {
        "colab": {
          "base_uri": "https://localhost:8080/"
        },
        "id": "YxdAs2Htj-An",
        "outputId": "f90bb4c5-08fd-4994-ee22-1f39b871ed5f"
      },
      "source": [
        "!make\n"
      ],
      "execution_count": null,
      "outputs": [
        {
          "output_type": "stream",
          "text": [
            "c++ -pthread -std=c++0x -O3 -funroll-loops -c src/args.cc\n",
            "c++ -pthread -std=c++0x -O3 -funroll-loops -c src/dictionary.cc\n",
            "c++ -pthread -std=c++0x -O3 -funroll-loops -c src/productquantizer.cc\n",
            "c++ -pthread -std=c++0x -O3 -funroll-loops -c src/matrix.cc\n",
            "c++ -pthread -std=c++0x -O3 -funroll-loops -c src/qmatrix.cc\n",
            "c++ -pthread -std=c++0x -O3 -funroll-loops -c src/vector.cc\n",
            "c++ -pthread -std=c++0x -O3 -funroll-loops -c src/model.cc\n",
            "c++ -pthread -std=c++0x -O3 -funroll-loops -c src/utils.cc\n",
            "c++ -pthread -std=c++0x -O3 -funroll-loops -c src/fasttext.cc\n",
            "c++ -pthread -std=c++0x -O3 -funroll-loops args.o dictionary.o productquantizer.o matrix.o qmatrix.o vector.o model.o utils.o fasttext.o src/main.cc -o fasttext\n"
          ],
          "name": "stdout"
        }
      ]
    },
    {
      "cell_type": "code",
      "metadata": {
        "colab": {
          "base_uri": "https://localhost:8080/"
        },
        "id": "ei3IsfufkDPD",
        "outputId": "c4991c99-4952-42ff-fdf6-eb2ff7efef66"
      },
      "source": [
        "!./fasttext\n"
      ],
      "execution_count": null,
      "outputs": [
        {
          "output_type": "stream",
          "text": [
            "usage: fasttext <command> <args>\n",
            "\n",
            "The commands supported by fasttext are:\n",
            "\n",
            "  supervised              train a supervised classifier\n",
            "  quantize                quantize a model to reduce the memory usage\n",
            "  test                    evaluate a supervised classifier\n",
            "  predict                 predict most likely labels\n",
            "  predict-prob            predict most likely labels with probabilities\n",
            "  skipgram                train a skipgram model\n",
            "  cbow                    train a cbow model\n",
            "  print-word-vectors      print word vectors given a trained model\n",
            "  print-sentence-vectors  print sentence vectors given a trained model\n",
            "  nn                      query for nearest neighbors\n",
            "  analogies               query for analogies\n",
            "\n"
          ],
          "name": "stdout"
        }
      ]
    },
    {
      "cell_type": "code",
      "metadata": {
        "colab": {
          "base_uri": "https://localhost:8080/"
        },
        "id": "vRZ5-A7-kJ1l",
        "outputId": "6afd3480-e511-43f6-f4af-2db253d6fe3f"
      },
      "source": [
        "df['Status '].replace ( to_replace = [0,1] , value = ['Non-converted' , 'Converted'] , inplace = True)\n",
        "df['Status ']=['__label__'+ s for s in df['Status ']]\n",
        "df['Status '].value_counts()"
      ],
      "execution_count": null,
      "outputs": [
        {
          "output_type": "execute_result",
          "data": {
            "text/plain": [
              "__label__Non-converted    802\n",
              "__label__Converted        122\n",
              "Name: Status , dtype: int64"
            ]
          },
          "metadata": {
            "tags": []
          },
          "execution_count": 12
        }
      ]
    },
    {
      "cell_type": "code",
      "metadata": {
        "colab": {
          "base_uri": "https://localhost:8080/",
          "height": 204
        },
        "id": "6JtLG4JVk7sl",
        "outputId": "4e069f99-fd63-4f54-9203-6cf4803f4eb1"
      },
      "source": [
        "df_2 = df[['Status ' , 'Text']].copy(deep = True)\n",
        "df_2.head()"
      ],
      "execution_count": null,
      "outputs": [
        {
          "output_type": "execute_result",
          "data": {
            "text/html": [
              "<div>\n",
              "<style scoped>\n",
              "    .dataframe tbody tr th:only-of-type {\n",
              "        vertical-align: middle;\n",
              "    }\n",
              "\n",
              "    .dataframe tbody tr th {\n",
              "        vertical-align: top;\n",
              "    }\n",
              "\n",
              "    .dataframe thead th {\n",
              "        text-align: right;\n",
              "    }\n",
              "</style>\n",
              "<table border=\"1\" class=\"dataframe\">\n",
              "  <thead>\n",
              "    <tr style=\"text-align: right;\">\n",
              "      <th></th>\n",
              "      <th>Status</th>\n",
              "      <th>Text</th>\n",
              "    </tr>\n",
              "  </thead>\n",
              "  <tbody>\n",
              "    <tr>\n",
              "      <th>0</th>\n",
              "      <td>__label__Non-converted</td>\n",
              "      <td>hyderabad prema share detail available evng prema postpone plan train currently prema not interest raja</td>\n",
              "    </tr>\n",
              "    <tr>\n",
              "      <th>1</th>\n",
              "      <td>__label__Non-converted</td>\n",
              "      <td>pune prema cal share detail email prema share detail email check n revert prema receive email look asq certification anirudh reddy</td>\n",
              "    </tr>\n",
              "    <tr>\n",
              "      <th>2</th>\n",
              "      <td>__label__Converted</td>\n",
              "      <td>bangalore aug mohan rnr sapna dewani</td>\n",
              "    </tr>\n",
              "    <tr>\n",
              "      <th>3</th>\n",
              "      <td>__label__Non-converted</td>\n",
              "      <td>mumbai surendra want server aug mohan cal busy aug mohan reg server suresh</td>\n",
              "    </tr>\n",
              "    <tr>\n",
              "      <th>4</th>\n",
              "      <td>__label__Non-converted</td>\n",
              "      <td>hyderabad prema rnr prema give info say revert hr prema plan next month share detail akshay shinde</td>\n",
              "    </tr>\n",
              "  </tbody>\n",
              "</table>\n",
              "</div>"
            ],
            "text/plain": [
              "                  Status                                                                                                                                 Text\n",
              "0  __label__Non-converted                             hyderabad prema share detail available evng prema postpone plan train currently prema not interest raja\n",
              "1  __label__Non-converted  pune prema cal share detail email prema share detail email check n revert prema receive email look asq certification anirudh reddy\n",
              "2      __label__Converted                                                                                                bangalore aug mohan rnr sapna dewani\n",
              "3  __label__Non-converted                                                          mumbai surendra want server aug mohan cal busy aug mohan reg server suresh\n",
              "4  __label__Non-converted                                  hyderabad prema rnr prema give info say revert hr prema plan next month share detail akshay shinde"
            ]
          },
          "metadata": {
            "tags": []
          },
          "execution_count": 13
        }
      ]
    },
    {
      "cell_type": "code",
      "metadata": {
        "colab": {
          "base_uri": "https://localhost:8080/",
          "height": 204
        },
        "id": "1c3wDAoAlKss",
        "outputId": "3f4c584a-c791-4032-c783-256441780b35"
      },
      "source": [
        "df_2['Text'] = df_2['Text'].replace('\\n',' ', regex=True).replace('\\t',' ', regex=True)\n",
        "df_2.head()"
      ],
      "execution_count": null,
      "outputs": [
        {
          "output_type": "execute_result",
          "data": {
            "text/html": [
              "<div>\n",
              "<style scoped>\n",
              "    .dataframe tbody tr th:only-of-type {\n",
              "        vertical-align: middle;\n",
              "    }\n",
              "\n",
              "    .dataframe tbody tr th {\n",
              "        vertical-align: top;\n",
              "    }\n",
              "\n",
              "    .dataframe thead th {\n",
              "        text-align: right;\n",
              "    }\n",
              "</style>\n",
              "<table border=\"1\" class=\"dataframe\">\n",
              "  <thead>\n",
              "    <tr style=\"text-align: right;\">\n",
              "      <th></th>\n",
              "      <th>Status</th>\n",
              "      <th>Text</th>\n",
              "    </tr>\n",
              "  </thead>\n",
              "  <tbody>\n",
              "    <tr>\n",
              "      <th>0</th>\n",
              "      <td>__label__Non-converted</td>\n",
              "      <td>hyderabad prema share detail available evng prema postpone plan train currently prema not interest raja</td>\n",
              "    </tr>\n",
              "    <tr>\n",
              "      <th>1</th>\n",
              "      <td>__label__Non-converted</td>\n",
              "      <td>pune prema cal share detail email prema share detail email check n revert prema receive email look asq certification anirudh reddy</td>\n",
              "    </tr>\n",
              "    <tr>\n",
              "      <th>2</th>\n",
              "      <td>__label__Converted</td>\n",
              "      <td>bangalore aug mohan rnr sapna dewani</td>\n",
              "    </tr>\n",
              "    <tr>\n",
              "      <th>3</th>\n",
              "      <td>__label__Non-converted</td>\n",
              "      <td>mumbai surendra want server aug mohan cal busy aug mohan reg server suresh</td>\n",
              "    </tr>\n",
              "    <tr>\n",
              "      <th>4</th>\n",
              "      <td>__label__Non-converted</td>\n",
              "      <td>hyderabad prema rnr prema give info say revert hr prema plan next month share detail akshay shinde</td>\n",
              "    </tr>\n",
              "  </tbody>\n",
              "</table>\n",
              "</div>"
            ],
            "text/plain": [
              "                  Status                                                                                                                                 Text\n",
              "0  __label__Non-converted                             hyderabad prema share detail available evng prema postpone plan train currently prema not interest raja\n",
              "1  __label__Non-converted  pune prema cal share detail email prema share detail email check n revert prema receive email look asq certification anirudh reddy\n",
              "2      __label__Converted                                                                                                bangalore aug mohan rnr sapna dewani\n",
              "3  __label__Non-converted                                                          mumbai surendra want server aug mohan cal busy aug mohan reg server suresh\n",
              "4  __label__Non-converted                                  hyderabad prema rnr prema give info say revert hr prema plan next month share detail akshay shinde"
            ]
          },
          "metadata": {
            "tags": []
          },
          "execution_count": 14
        }
      ]
    },
    {
      "cell_type": "code",
      "metadata": {
        "colab": {
          "base_uri": "https://localhost:8080/"
        },
        "id": "Xa9fjMWM968G",
        "outputId": "e7457d26-3994-4cbc-ea43-1c4fcf89163f"
      },
      "source": [
        "## shuffling and splitting data to provide equal average of labels accross train and test sets.\n",
        "\n",
        "from sklearn.model_selection import StratifiedShuffleSplit\n",
        "\n",
        "X = df_2['Text']\n",
        "y = df_2['Status ']\n",
        "print(X.shape)\n",
        "print(y.shape)\n",
        "sss = StratifiedShuffleSplit(n_splits=1, test_size=0.1, random_state=0)\n",
        "print(sss.get_n_splits(X, y))\n",
        "print(sss)\n",
        "\n",
        "train_idx = 0\n",
        "test_idx = 0\n",
        "for train_idx , test_idx in sss.split(X,y):\n",
        "    X_train  , X_test = X.iloc[train_idx], X.iloc[test_idx]\n",
        "    y_train  , y_test = y.iloc[train_idx], y.iloc[test_idx]\n",
        "\n",
        "print(X_train.shape)\n",
        "print(X_test.shape)\n",
        "print(y_train.shape)\n",
        "print(y_test.shape)\n",
        "print(y.value_counts())\n",
        "print(y_train.value_counts())\n",
        "print(y_test.value_counts())"
      ],
      "execution_count": null,
      "outputs": [
        {
          "output_type": "stream",
          "text": [
            "(924,)\n",
            "(924,)\n",
            "1\n",
            "StratifiedShuffleSplit(n_splits=1, random_state=0, test_size=0.1,\n",
            "            train_size=None)\n",
            "(831,)\n",
            "(93,)\n",
            "(831,)\n",
            "(93,)\n",
            "__label__Non-converted    802\n",
            "__label__Converted        122\n",
            "Name: Status , dtype: int64\n",
            "__label__Non-converted    721\n",
            "__label__Converted        110\n",
            "Name: Status , dtype: int64\n",
            "__label__Non-converted    81\n",
            "__label__Converted        12\n",
            "Name: Status , dtype: int64\n"
          ],
          "name": "stdout"
        }
      ]
    },
    {
      "cell_type": "code",
      "metadata": {
        "colab": {
          "base_uri": "https://localhost:8080/"
        },
        "id": "LccRkV_m_OkO",
        "outputId": "2c79595b-0568-46c1-d779-78eaaa8e7346"
      },
      "source": [
        "y_train"
      ],
      "execution_count": null,
      "outputs": [
        {
          "output_type": "execute_result",
          "data": {
            "text/plain": [
              "104    __label__Non-converted\n",
              "608    __label__Non-converted\n",
              "409    __label__Non-converted\n",
              "671    __label__Non-converted\n",
              "858    __label__Non-converted\n",
              "                ...          \n",
              "97     __label__Non-converted\n",
              "872    __label__Non-converted\n",
              "547        __label__Converted\n",
              "466    __label__Non-converted\n",
              "44     __label__Non-converted\n",
              "Name: Status , Length: 831, dtype: object"
            ]
          },
          "metadata": {
            "tags": []
          },
          "execution_count": 37
        }
      ]
    },
    {
      "cell_type": "code",
      "metadata": {
        "colab": {
          "base_uri": "https://localhost:8080/"
        },
        "id": "yymv9dhyAIq1",
        "outputId": "9d44ab33-6fc9-4949-c754-1fdde9e05343"
      },
      "source": [
        "X_train"
      ],
      "execution_count": null,
      "outputs": [
        {
          "output_type": "execute_result",
          "data": {
            "text/plain": [
              "104                                                                                                   bangalore soma not accept call soma not accept call soma notr accept call vishal\n",
              "608          bangalore surendra iam drive surendra rnr surendra call dis connect net work problem surendra dont decide check even session let u know surendra rnr surendra rnr abhinav\n",
              "409                                  mumbai june mohan frshr check join demo july mohan rnr july mohan dnt hv pc try today july mohan pc mobile share reocrd demo rachana pramod jadav\n",
              "671                                                                                           bangalore prema need call pm prema rnr prema rnr prema rnr prema disconnect call santosh\n",
              "858                                           bangalore surendra call tomorrow mem surendra share payment link detail sample videos surendra sorry management prefer simplilearn vinay\n",
              "                                                                                            ...                                                                                       \n",
              "97     bangalore surendra share link surendra get back share office detail surendra rnr surendra wrong number call disconnect number correct surendra wrong number iam not abdul abdul\n",
              "872                                                                                                                                             bangalore gowtham not intrsd sulagna s\n",
              "547                                                                                      india gowtham not connect gowtham not cnnctng soma call unregistered number abdul rashid khan\n",
              "466                      bangalore surendra share detail first check revert surendra call u back surendra share link surendra rnr mail send surendra rnr surendra switch sandeep patil\n",
              "44                                                                                                           hyderabad prema rnr prema share detail wil check n revert prema plan ravi\n",
              "Name: Text, Length: 831, dtype: object"
            ]
          },
          "metadata": {
            "tags": []
          },
          "execution_count": 38
        }
      ]
    },
    {
      "cell_type": "code",
      "metadata": {
        "colab": {
          "base_uri": "https://localhost:8080/"
        },
        "id": "pF5xInQJ--3p",
        "outputId": "eb8a7e9e-7432-45ea-b5de-e327ff3e0d35"
      },
      "source": [
        "X_train = pd.concat([y_train , X_train] , ignore_index = False , axis = 1)\n",
        "X_test = pd.concat([y_test , X_test] , ignore_index = False , axis = 1)\n",
        "print(X_train['Status '].value_counts())\n",
        "print(X_test['Status '].value_counts())"
      ],
      "execution_count": null,
      "outputs": [
        {
          "output_type": "stream",
          "text": [
            "__label__Non-converted    721\n",
            "__label__Converted        110\n",
            "Name: Status , dtype: int64\n",
            "__label__Non-converted    81\n",
            "__label__Converted        12\n",
            "Name: Status , dtype: int64\n"
          ],
          "name": "stdout"
        }
      ]
    },
    {
      "cell_type": "code",
      "metadata": {
        "colab": {
          "base_uri": "https://localhost:8080/",
          "height": 572
        },
        "id": "bkRy3xcM_r-r",
        "outputId": "cd8c4b91-8c23-4d77-cb77-fc67d02199f3"
      },
      "source": [
        "X_train"
      ],
      "execution_count": null,
      "outputs": [
        {
          "output_type": "execute_result",
          "data": {
            "text/html": [
              "<div>\n",
              "<style scoped>\n",
              "    .dataframe tbody tr th:only-of-type {\n",
              "        vertical-align: middle;\n",
              "    }\n",
              "\n",
              "    .dataframe tbody tr th {\n",
              "        vertical-align: top;\n",
              "    }\n",
              "\n",
              "    .dataframe thead th {\n",
              "        text-align: right;\n",
              "    }\n",
              "</style>\n",
              "<table border=\"1\" class=\"dataframe\">\n",
              "  <thead>\n",
              "    <tr style=\"text-align: right;\">\n",
              "      <th></th>\n",
              "      <th>Status</th>\n",
              "      <th>Text</th>\n",
              "    </tr>\n",
              "  </thead>\n",
              "  <tbody>\n",
              "    <tr>\n",
              "      <th>104</th>\n",
              "      <td>__label__Non-converted</td>\n",
              "      <td>bangalore soma not accept call soma not accept call soma notr accept call vishal</td>\n",
              "    </tr>\n",
              "    <tr>\n",
              "      <th>608</th>\n",
              "      <td>__label__Non-converted</td>\n",
              "      <td>bangalore surendra iam drive surendra rnr surendra call dis connect net work problem surendra dont decide check even session let u know surendra rnr surendra rnr abhinav</td>\n",
              "    </tr>\n",
              "    <tr>\n",
              "      <th>409</th>\n",
              "      <td>__label__Non-converted</td>\n",
              "      <td>mumbai june mohan frshr check join demo july mohan rnr july mohan dnt hv pc try today july mohan pc mobile share reocrd demo rachana pramod jadav</td>\n",
              "    </tr>\n",
              "    <tr>\n",
              "      <th>671</th>\n",
              "      <td>__label__Non-converted</td>\n",
              "      <td>bangalore prema need call pm prema rnr prema rnr prema rnr prema disconnect call santosh</td>\n",
              "    </tr>\n",
              "    <tr>\n",
              "      <th>858</th>\n",
              "      <td>__label__Non-converted</td>\n",
              "      <td>bangalore surendra call tomorrow mem surendra share payment link detail sample videos surendra sorry management prefer simplilearn vinay</td>\n",
              "    </tr>\n",
              "    <tr>\n",
              "      <th>...</th>\n",
              "      <td>...</td>\n",
              "      <td>...</td>\n",
              "    </tr>\n",
              "    <tr>\n",
              "      <th>97</th>\n",
              "      <td>__label__Non-converted</td>\n",
              "      <td>bangalore surendra share link surendra get back share office detail surendra rnr surendra wrong number call disconnect number correct surendra wrong number iam not abdul abdul</td>\n",
              "    </tr>\n",
              "    <tr>\n",
              "      <th>872</th>\n",
              "      <td>__label__Non-converted</td>\n",
              "      <td>bangalore gowtham not intrsd sulagna s</td>\n",
              "    </tr>\n",
              "    <tr>\n",
              "      <th>547</th>\n",
              "      <td>__label__Converted</td>\n",
              "      <td>india gowtham not connect gowtham not cnnctng soma call unregistered number abdul rashid khan</td>\n",
              "    </tr>\n",
              "    <tr>\n",
              "      <th>466</th>\n",
              "      <td>__label__Non-converted</td>\n",
              "      <td>bangalore surendra share detail first check revert surendra call u back surendra share link surendra rnr mail send surendra rnr surendra switch sandeep patil</td>\n",
              "    </tr>\n",
              "    <tr>\n",
              "      <th>44</th>\n",
              "      <td>__label__Non-converted</td>\n",
              "      <td>hyderabad prema rnr prema share detail wil check n revert prema plan ravi</td>\n",
              "    </tr>\n",
              "  </tbody>\n",
              "</table>\n",
              "<p>831 rows × 2 columns</p>\n",
              "</div>"
            ],
            "text/plain": [
              "                    Status                                                                                                                                                                              Text\n",
              "104  __label__Non-converted                                                                                                 bangalore soma not accept call soma not accept call soma notr accept call vishal\n",
              "608  __label__Non-converted        bangalore surendra iam drive surendra rnr surendra call dis connect net work problem surendra dont decide check even session let u know surendra rnr surendra rnr abhinav\n",
              "409  __label__Non-converted                                mumbai june mohan frshr check join demo july mohan rnr july mohan dnt hv pc try today july mohan pc mobile share reocrd demo rachana pramod jadav\n",
              "671  __label__Non-converted                                                                                         bangalore prema need call pm prema rnr prema rnr prema rnr prema disconnect call santosh\n",
              "858  __label__Non-converted                                         bangalore surendra call tomorrow mem surendra share payment link detail sample videos surendra sorry management prefer simplilearn vinay\n",
              "..                      ...                                                                                                                                                                              ...\n",
              "97   __label__Non-converted  bangalore surendra share link surendra get back share office detail surendra rnr surendra wrong number call disconnect number correct surendra wrong number iam not abdul abdul\n",
              "872  __label__Non-converted                                                                                                                                           bangalore gowtham not intrsd sulagna s\n",
              "547      __label__Converted                                                                                    india gowtham not connect gowtham not cnnctng soma call unregistered number abdul rashid khan\n",
              "466  __label__Non-converted                    bangalore surendra share detail first check revert surendra call u back surendra share link surendra rnr mail send surendra rnr surendra switch sandeep patil\n",
              "44   __label__Non-converted                                                                                                        hyderabad prema rnr prema share detail wil check n revert prema plan ravi\n",
              "\n",
              "[831 rows x 2 columns]"
            ]
          },
          "metadata": {
            "tags": []
          },
          "execution_count": 40
        }
      ]
    },
    {
      "cell_type": "code",
      "metadata": {
        "id": "tNJ1UkiAleQN"
      },
      "source": [
        "## Saving our accurate format data for any fasttext task\n",
        "\n",
        "import csv\n",
        "X_train.to_csv(r'/content/drive/MyDrive/Colab DataSets/CRM_updated_train.txt',\n",
        "                    index=False, sep=' ', header=False, quoting=csv.QUOTE_NONE, quotechar=\"\", escapechar=\" \")\n",
        "\n",
        "X_test.to_csv(r'/content/drive/MyDrive/Colab DataSets/CRM_updated_test.txt',\n",
        "                    index=False, sep=' ', header=False, quoting=csv.QUOTE_NONE, quotechar=\"\", escapechar=\" \")"
      ],
      "execution_count": null,
      "outputs": []
    },
    {
      "cell_type": "code",
      "metadata": {
        "id": "Uc5GT5lomQRB"
      },
      "source": [
        "!cat /proc/cpuinfo ## CPU info\n"
      ],
      "execution_count": null,
      "outputs": []
    },
    {
      "cell_type": "code",
      "metadata": {
        "id": "p6pkHnmwyPnI"
      },
      "source": [
        "!cat /proc/meminfo ## RAM info\n"
      ],
      "execution_count": null,
      "outputs": []
    },
    {
      "cell_type": "markdown",
      "metadata": {
        "id": "oHt7EtEUlvtS"
      },
      "source": [
        "\n",
        "\n",
        "```\n",
        "# This is formatted as code\n",
        "```\n",
        "\n",
        "%%time\n",
        "!./fasttext supervised -input \"/content/drive/MyDrive/Colab DataSets/CRM_updated.txt\" -output model_yelp_reviews"
      ]
    },
    {
      "cell_type": "code",
      "metadata": {
        "id": "-fvmQpeD9efv"
      },
      "source": [
        ""
      ],
      "execution_count": null,
      "outputs": []
    },
    {
      "cell_type": "markdown",
      "metadata": {
        "id": "01RGiUQ-9fWH"
      },
      "source": [
        "## Training a FastText classifier"
      ]
    },
    {
      "cell_type": "code",
      "metadata": {
        "colab": {
          "base_uri": "https://localhost:8080/"
        },
        "id": "UcAlEeKkmN6G",
        "collapsed": true,
        "outputId": "fa411c04-c259-44cd-9093-38b48cb6f01c"
      },
      "source": [
        "%%time \n",
        "#!./fasttext supervised -input \"/content/drive/MyDrive/Colab DataSets/CRM_updated.txt\" -output model_CRM -label  __label__"
      ],
      "execution_count": null,
      "outputs": [
        {
          "output_type": "stream",
          "text": [
            "\rRead 0M words\n",
            "Number of words:  1924\n",
            "Number of labels: 2\n",
            "\rProgress: 0.0%  words/sec/thread: 97561  lr: 0.100000  loss: 0.607482  eta: -596523h-14m \rProgress: 0.1%  words/sec/thread: 168203  lr: 0.099885  loss: 0.640731  eta: 0h0m \rProgress: 0.2%  words/sec/thread: 239366  lr: 0.099767  loss: 0.655509  eta: 0h0m \rProgress: 0.7%  words/sec/thread: 553962  lr: 0.099263  loss: 0.663691  eta: 0h0m \rProgress: 1.3%  words/sec/thread: 843568  lr: 0.098721  loss: 0.669091  eta: 0h0m \rProgress: 1.6%  words/sec/thread: 1067776  lr: 0.098386  loss: 0.673336  eta: 0h0m \rProgress: 1.8%  words/sec/thread: 879524  lr: 0.098157  loss: 0.677005  eta: 0h0m \rProgress: 2.0%  words/sec/thread: 892139  lr: 0.098035  loss: 0.679800  eta: 0h0m \rProgress: 2.1%  words/sec/thread: 894851  lr: 0.097924  loss: 0.681673  eta: 0h0m \rProgress: 2.2%  words/sec/thread: 871560  lr: 0.097800  loss: 0.683416  eta: 0h0m \rProgress: 2.4%  words/sec/thread: 915040  lr: 0.097567  loss: 0.684456  eta: 0h0m \rProgress: 2.9%  words/sec/thread: 1046598  lr: 0.097105  loss: 0.685314  eta: 0h0m \rProgress: 3.4%  words/sec/thread: 1184560  lr: 0.096622  loss: 0.685867  eta: 0h0m \rProgress: 3.9%  words/sec/thread: 1305215  lr: 0.096141  loss: 0.686271  eta: 0h0m \rProgress: 4.3%  words/sec/thread: 1231690  lr: 0.095655  loss: 0.686992  eta: 0h0m \rProgress: 4.9%  words/sec/thread: 1325912  lr: 0.095059  loss: 0.687291  eta: 0h0m \rProgress: 5.3%  words/sec/thread: 1289947  lr: 0.094695  loss: 0.687418  eta: 0h0m \rProgress: 6.1%  words/sec/thread: 1410195  lr: 0.093875  loss: 0.687327  eta: 0h0m \rProgress: 6.7%  words/sec/thread: 1429618  lr: 0.093267  loss: 0.686983  eta: 0h0m \rProgress: 6.8%  words/sec/thread: 1321948  lr: 0.093151  loss: 0.686677  eta: 0h0m \rProgress: 15.0%  words/sec/thread: 1832324  lr: 0.085003  loss: 0.652876  eta: 0h0m \rProgress: 15.4%  words/sec/thread: 1852795  lr: 0.084638  loss: 0.630588  eta: 0h0m \rProgress: 15.8%  words/sec/thread: 1890989  lr: 0.084173  loss: 0.609279  eta: 0h0m \rProgress: 16.4%  words/sec/thread: 1939066  lr: 0.083586  loss: 0.589837  eta: 0h0m \rProgress: 16.9%  words/sec/thread: 1977063  lr: 0.083071  loss: 0.568824  eta: 0h0m \rProgress: 17.4%  words/sec/thread: 1884984  lr: 0.082556  loss: 0.545694  eta: 0h0m \rProgress: 18.1%  words/sec/thread: 1900686  lr: 0.081859  loss: 0.552529  eta: 0h0m \rProgress: 18.3%  words/sec/thread: 1894823  lr: 0.081739  loss: 0.535289  eta: 0h0m \rProgress: 21.0%  words/sec/thread: 1967054  lr: 0.079037  loss: 0.522618  eta: 0h0m \rProgress: 21.1%  words/sec/thread: 1958419  lr: 0.078915  loss: 0.511721  eta: 0h0m \rProgress: 21.2%  words/sec/thread: 1953105  lr: 0.078808  loss: 0.501020  eta: 0h0m \rProgress: 21.4%  words/sec/thread: 1945998  lr: 0.078581  loss: 0.500506  eta: 0h0m \rProgress: 46.1%  words/sec/thread: 2387162  lr: 0.053897  loss: 0.530547  eta: 0h0m \rProgress: 46.4%  words/sec/thread: 2375983  lr: 0.053643  loss: 0.521985  eta: 0h0m \rProgress: 46.8%  words/sec/thread: 2380763  lr: 0.053162  loss: 0.510055  eta: 0h0m \rProgress: 57.6%  words/sec/thread: 2486277  lr: 0.042405  loss: 0.500640  eta: 0h0m \rProgress: 58.1%  words/sec/thread: 2480993  lr: 0.041949  loss: 0.494972  eta: 0h0m \rProgress: 58.5%  words/sec/thread: 2493353  lr: 0.041468  loss: 0.489864  eta: 0h0m \rProgress: 59.0%  words/sec/thread: 2504955  lr: 0.040986  loss: 0.509225  eta: 0h0m \rProgress: 59.5%  words/sec/thread: 2515920  lr: 0.040516  loss: 0.510900  eta: 0h0m \rProgress: 59.9%  words/sec/thread: 2532542  lr: 0.040069  loss: 0.505840  eta: 0h0m \rProgress: 60.4%  words/sec/thread: 2544757  lr: 0.039565  loss: 0.501246  eta: 0h0m \rProgress: 60.9%  words/sec/thread: 2474031  lr: 0.039069  loss: 0.515760  eta: 0h0m \rProgress: 61.2%  words/sec/thread: 2460360  lr: 0.038812  loss: 0.517523  eta: 0h0m \rProgress: 61.7%  words/sec/thread: 2475771  lr: 0.038346  loss: 0.536860  eta: 0h0m \rProgress: 62.1%  words/sec/thread: 2486853  lr: 0.037856  loss: 0.531484  eta: 0h0m \rProgress: 74.4%  words/sec/thread: 2561696  lr: 0.025559  loss: 0.526934  eta: 0h0m \rProgress: 74.9%  words/sec/thread: 2570111  lr: 0.025106  loss: 0.523150  eta: 0h0m \rProgress: 75.4%  words/sec/thread: 2583140  lr: 0.024632  loss: 0.518583  eta: 0h0m \rProgress: 75.8%  words/sec/thread: 2591356  lr: 0.024195  loss: 0.512635  eta: 0h0m \rProgress: 76.4%  words/sec/thread: 2600578  lr: 0.023633  loss: 0.507229  eta: 0h0m \rProgress: 76.7%  words/sec/thread: 2610141  lr: 0.023260  loss: 0.499438  eta: 0h0m \rProgress: 77.2%  words/sec/thread: 2619438  lr: 0.022760  loss: 0.512160  eta: 0h0m \rProgress: 77.7%  words/sec/thread: 2625103  lr: 0.022291  loss: 0.523208  eta: 0h0m \rProgress: 78.2%  words/sec/thread: 2633502  lr: 0.021834  loss: 0.529320  eta: 0h0m \rProgress: 78.6%  words/sec/thread: 2549800  lr: 0.021367  loss: 0.523698  eta: 0h0m \rProgress: 100.0%  words/sec/thread: 2621040  lr: 0.000000  loss: 0.523698  eta: 0h0m \n",
            "CPU times: user 11.4 ms, sys: 9.18 ms, total: 20.6 ms\n",
            "Wall time: 323 ms\n"
          ],
          "name": "stdout"
        }
      ]
    },
    {
      "cell_type": "code",
      "metadata": {
        "colab": {
          "base_uri": "https://localhost:8080/"
        },
        "id": "P2aWumvlmIxd",
        "collapsed": true,
        "outputId": "e497def4-7634-4a20-f9a5-701b9a6b97b4"
      },
      "source": [
        "!ls\n"
      ],
      "execution_count": null,
      "outputs": [
        {
          "output_type": "stream",
          "text": [
            "args.o\t\t\t   Makefile\t\t    quantization-results.sh\n",
            "classification-example.sh  matrix.o\t\t    README.md\n",
            "classification-results.sh  model_CRM.bin\t    src\n",
            "CONTRIBUTING.md\t\t   model_CRM.vec\t    tutorials\n",
            "dictionary.o\t\t   model.o\t\t    utils.o\n",
            "eval.py\t\t\t   PATENTS\t\t    vector.o\n",
            "fasttext\t\t   pretrained-vectors.md    wikifil.pl\n",
            "fasttext.o\t\t   productquantizer.o\t    word-vector-example.sh\n",
            "get-wikimedia.sh\t   qmatrix.o\n",
            "LICENSE\t\t\t   quantization-example.sh\n"
          ],
          "name": "stdout"
        }
      ]
    },
    {
      "cell_type": "code",
      "metadata": {
        "colab": {
          "base_uri": "https://localhost:8080/"
        },
        "id": "M49LW27YmpUq",
        "outputId": "e017e293-0b84-4c5d-db18-99ffacea4545"
      },
      "source": [
        "%%time \n",
        "!./fasttext supervised -input \"/content/drive/MyDrive/Colab DataSets/CRM_updated_train.txt\" -output model_CRM -label  __label__ -epoch 200 -lr 0.01 -thread 5\n",
        "\"\"\"\n",
        "  Some parmeters to tune are :\n",
        "  -lr : learning rate [0.1]\n",
        "  -lrUpdateRate : change the rate of updates for the learning rate [100]\n",
        "  -dim : size of word vectors [100]\n",
        "  -ws : size of the context window [5]\n",
        "  -epoch : number of epochs [5]\n",
        "  -neg : number of negatives sampled [5]\n",
        "  -loss : loss function {ns, hs, softmax} [ns]\n",
        "  -thread : number of threads [12]\n",
        "  -pretrainedVectors : pretrained word vectors for supervised learning []\n",
        "  -saveOutput : whether output params should be saved [0]\n",
        "  [value] represents the default value ...\n",
        "\n",
        "\"\"\""
      ],
      "execution_count": null,
      "outputs": [
        {
          "output_type": "stream",
          "text": [
            "\rRead 0M words\n",
            "Number of words:  1782\n",
            "Number of labels: 2\n",
            "Progress: 100.0%  words/sec/thread: 3168524  lr: 0.000000  loss: 0.324892  eta: 0h0m \n",
            "CPU times: user 31.9 ms, sys: 12.6 ms, total: 44.5 ms\n",
            "Wall time: 856 ms\n"
          ],
          "name": "stdout"
        }
      ]
    },
    {
      "cell_type": "code",
      "metadata": {
        "id": "u5orbarNm7ef",
        "colab": {
          "base_uri": "https://localhost:8080/"
        },
        "outputId": "3ff1c73c-487f-4b25-be9a-6251edc202ad"
      },
      "source": [
        "!ls"
      ],
      "execution_count": null,
      "outputs": [
        {
          "output_type": "stream",
          "text": [
            "args.o\t\t\t   Makefile\t\t    quantization-results.sh\n",
            "classification-example.sh  matrix.o\t\t    README.md\n",
            "classification-results.sh  model_CRM.bin\t    src\n",
            "CONTRIBUTING.md\t\t   model_CRM.vec\t    tutorials\n",
            "dictionary.o\t\t   model.o\t\t    utils.o\n",
            "eval.py\t\t\t   PATENTS\t\t    vector.o\n",
            "fasttext\t\t   pretrained-vectors.md    wikifil.pl\n",
            "fasttext.o\t\t   productquantizer.o\t    word-vector-example.sh\n",
            "get-wikimedia.sh\t   qmatrix.o\n",
            "LICENSE\t\t\t   quantization-example.sh\n"
          ],
          "name": "stdout"
        }
      ]
    },
    {
      "cell_type": "code",
      "metadata": {
        "colab": {
          "base_uri": "https://localhost:8080/"
        },
        "id": "BrFDXNaE3GbY",
        "outputId": "cf2861f8-045f-4a29-d666-1bebdc2611d6"
      },
      "source": [
        "!pwd"
      ],
      "execution_count": null,
      "outputs": [
        {
          "output_type": "stream",
          "text": [
            "/root\n"
          ],
          "name": "stdout"
        }
      ]
    },
    {
      "cell_type": "code",
      "metadata": {
        "colab": {
          "base_uri": "https://localhost:8080/",
          "height": 180
        },
        "id": "dNks-fWv3ZYl",
        "collapsed": true,
        "outputId": "c628d0cc-8cc7-4294-81d1-235da543cebe"
      },
      "source": [
        "import os\n",
        "os.chdir('/root/fastText-0.1.0')"
      ],
      "execution_count": null,
      "outputs": [
        {
          "output_type": "error",
          "ename": "FileNotFoundError",
          "evalue": "ignored",
          "traceback": [
            "\u001b[0;31m---------------------------------------------------------------------------\u001b[0m",
            "\u001b[0;31mFileNotFoundError\u001b[0m                         Traceback (most recent call last)",
            "\u001b[0;32m<ipython-input-21-110abb25dfff>\u001b[0m in \u001b[0;36m<module>\u001b[0;34m()\u001b[0m\n\u001b[1;32m      1\u001b[0m \u001b[0;32mimport\u001b[0m \u001b[0mos\u001b[0m\u001b[0;34m\u001b[0m\u001b[0;34m\u001b[0m\u001b[0m\n\u001b[0;32m----> 2\u001b[0;31m \u001b[0mos\u001b[0m\u001b[0;34m.\u001b[0m\u001b[0mchdir\u001b[0m\u001b[0;34m(\u001b[0m\u001b[0;34m'/root/fastText-0.1.0'\u001b[0m\u001b[0;34m)\u001b[0m\u001b[0;34m\u001b[0m\u001b[0;34m\u001b[0m\u001b[0m\n\u001b[0m",
            "\u001b[0;31mFileNotFoundError\u001b[0m: [Errno 2] No such file or directory: '/root/fastText-0.1.0'"
          ]
        }
      ]
    },
    {
      "cell_type": "code",
      "metadata": {
        "colab": {
          "base_uri": "https://localhost:8080/"
        },
        "id": "yVEJTuoZ4T-U",
        "collapsed": true,
        "outputId": "21d877ef-228b-47a1-d17b-8c0f558f3b56"
      },
      "source": [
        "%cd ./fastText-0.1.0"
      ],
      "execution_count": null,
      "outputs": [
        {
          "output_type": "stream",
          "text": [
            "[Errno 2] No such file or directory: './fastText-0.1.0'\n",
            "/root\n"
          ],
          "name": "stdout"
        }
      ]
    },
    {
      "cell_type": "code",
      "metadata": {
        "colab": {
          "base_uri": "https://localhost:8080/"
        },
        "id": "ixMsfyd749f8",
        "outputId": "5740dd10-2d28-4ecb-e927-671697d2fca7"
      },
      "source": [
        "%dhist"
      ],
      "execution_count": null,
      "outputs": [
        {
          "output_type": "stream",
          "text": [
            "Directory history (kept in _dh)\n",
            "0: /content\n",
            "1: /root\n",
            "2: /root/fastText-0.1.0\n"
          ],
          "name": "stdout"
        }
      ]
    },
    {
      "cell_type": "markdown",
      "metadata": {
        "id": "Z82Hn4pN9mA3"
      },
      "source": [
        "## Testing a FastText classifier"
      ]
    },
    {
      "cell_type": "code",
      "metadata": {
        "id": "5g55lkKt7y9N",
        "colab": {
          "base_uri": "https://localhost:8080/"
        },
        "outputId": "d36a100b-1b47-4624-b1aa-29ba7cfe182e"
      },
      "source": [
        "!./fasttext test model_CRM.bin \"/content/drive/MyDrive/Colab DataSets/CRM_updated_test.txt\"\n",
        "\n",
        "## Number of examples: 93\n",
        "## P@1 is the precision\n",
        "## R@1 is the recall"
      ],
      "execution_count": null,
      "outputs": [
        {
          "output_type": "stream",
          "text": [
            "N\t93\n",
            "P@1\t0.86\n",
            "R@1\t0.86\n",
            "Number of examples: 93\n"
          ],
          "name": "stdout"
        }
      ]
    },
    {
      "cell_type": "code",
      "metadata": {
        "colab": {
          "base_uri": "https://localhost:8080/"
        },
        "id": "EZoTvyKCBqkW",
        "outputId": "317eb919-032d-4654-bb0a-ff096332f452"
      },
      "source": [
        "!./fasttext test model_CRM.bin \"/content/drive/MyDrive/Colab DataSets/CRM_updated_train.txt\"\n"
      ],
      "execution_count": null,
      "outputs": [
        {
          "output_type": "stream",
          "text": [
            "N\t831\n",
            "P@1\t0.91\n",
            "R@1\t0.91\n",
            "Number of examples: 831\n"
          ],
          "name": "stdout"
        }
      ]
    },
    {
      "cell_type": "markdown",
      "metadata": {
        "id": "75GFYgDcCHjL"
      },
      "source": [
        "## Prediction on test data"
      ]
    },
    {
      "cell_type": "code",
      "metadata": {
        "colab": {
          "base_uri": "https://localhost:8080/"
        },
        "collapsed": true,
        "id": "oMoRNNC-CJjV",
        "outputId": "a53db4d2-3ca1-40dd-dadb-cd597954257c"
      },
      "source": [
        "## Predict labels for test data\n",
        "labels = !./fasttext predict model_CRM.bin \"/content/drive/MyDrive/Colab DataSets/CRM_updated_test.txt\"\n",
        "labels"
      ],
      "execution_count": null,
      "outputs": [
        {
          "output_type": "execute_result",
          "data": {
            "text/plain": [
              "['__label__Non-converted',\n",
              " '__label__Non-converted',\n",
              " '__label__Non-converted',\n",
              " '__label__Non-converted',\n",
              " '__label__Non-converted',\n",
              " '__label__Non-converted',\n",
              " '__label__Non-converted',\n",
              " '__label__Non-converted',\n",
              " '__label__Non-converted',\n",
              " '__label__Non-converted',\n",
              " '__label__Non-converted',\n",
              " '__label__Non-converted',\n",
              " '__label__Non-converted',\n",
              " '__label__Non-converted',\n",
              " '__label__Non-converted',\n",
              " '__label__Non-converted',\n",
              " '__label__Non-converted',\n",
              " '__label__Non-converted',\n",
              " '__label__Non-converted',\n",
              " '__label__Non-converted',\n",
              " '__label__Non-converted',\n",
              " '__label__Non-converted',\n",
              " '__label__Non-converted',\n",
              " '__label__Non-converted',\n",
              " '__label__Non-converted',\n",
              " '__label__Non-converted',\n",
              " '__label__Non-converted',\n",
              " '__label__Non-converted',\n",
              " '__label__Non-converted',\n",
              " '__label__Non-converted',\n",
              " '__label__Non-converted',\n",
              " '__label__Non-converted',\n",
              " '__label__Non-converted',\n",
              " '__label__Non-converted',\n",
              " '__label__Non-converted',\n",
              " '__label__Non-converted',\n",
              " '__label__Non-converted',\n",
              " '__label__Non-converted',\n",
              " '__label__Non-converted',\n",
              " '__label__Non-converted',\n",
              " '__label__Non-converted',\n",
              " '__label__Non-converted',\n",
              " '__label__Non-converted',\n",
              " '__label__Non-converted',\n",
              " '__label__Non-converted',\n",
              " '__label__Non-converted',\n",
              " '__label__Non-converted',\n",
              " '__label__Non-converted',\n",
              " '__label__Non-converted',\n",
              " '__label__Non-converted',\n",
              " '__label__Non-converted',\n",
              " '__label__Non-converted',\n",
              " '__label__Non-converted',\n",
              " '__label__Non-converted',\n",
              " '__label__Non-converted',\n",
              " '__label__Non-converted',\n",
              " '__label__Non-converted',\n",
              " '__label__Non-converted',\n",
              " '__label__Non-converted',\n",
              " '__label__Non-converted',\n",
              " '__label__Non-converted',\n",
              " '__label__Non-converted',\n",
              " '__label__Non-converted',\n",
              " '__label__Converted',\n",
              " '__label__Non-converted',\n",
              " '__label__Non-converted',\n",
              " '__label__Non-converted',\n",
              " '__label__Non-converted',\n",
              " '__label__Non-converted',\n",
              " '__label__Non-converted',\n",
              " '__label__Non-converted',\n",
              " '__label__Non-converted',\n",
              " '__label__Non-converted',\n",
              " '__label__Non-converted',\n",
              " '__label__Non-converted',\n",
              " '__label__Non-converted',\n",
              " '__label__Non-converted',\n",
              " '__label__Non-converted',\n",
              " '__label__Non-converted',\n",
              " '__label__Non-converted',\n",
              " '__label__Non-converted',\n",
              " '__label__Non-converted',\n",
              " '__label__Non-converted',\n",
              " '__label__Non-converted',\n",
              " '__label__Non-converted',\n",
              " '__label__Non-converted',\n",
              " '__label__Non-converted',\n",
              " '__label__Non-converted',\n",
              " '__label__Non-converted',\n",
              " '__label__Non-converted',\n",
              " '__label__Non-converted',\n",
              " '__label__Non-converted',\n",
              " '__label__Non-converted']"
            ]
          },
          "metadata": {
            "tags": []
          },
          "execution_count": 49
        }
      ]
    },
    {
      "cell_type": "code",
      "metadata": {
        "colab": {
          "base_uri": "https://localhost:8080/"
        },
        "collapsed": true,
        "id": "igusvrg9CUKK",
        "outputId": "64db949f-5f8c-45a2-8de6-424bcf5583a9"
      },
      "source": [
        "## Predict top 5 labels\n",
        "top_5 = !./fasttext predict model_CRM.bin \"/content/drive/MyDrive/Colab DataSets/CRM_updated_test.txt\" 5\n",
        "top_5"
      ],
      "execution_count": null,
      "outputs": [
        {
          "output_type": "execute_result",
          "data": {
            "text/plain": [
              "['__label__Non-converted __label__Converted',\n",
              " '__label__Non-converted __label__Converted',\n",
              " '__label__Non-converted __label__Converted',\n",
              " '__label__Non-converted __label__Converted',\n",
              " '__label__Non-converted __label__Converted',\n",
              " '__label__Non-converted __label__Converted',\n",
              " '__label__Non-converted __label__Converted',\n",
              " '__label__Non-converted __label__Converted',\n",
              " '__label__Non-converted __label__Converted',\n",
              " '__label__Non-converted __label__Converted',\n",
              " '__label__Non-converted __label__Converted',\n",
              " '__label__Non-converted __label__Converted',\n",
              " '__label__Non-converted __label__Converted',\n",
              " '__label__Non-converted __label__Converted',\n",
              " '__label__Non-converted __label__Converted',\n",
              " '__label__Non-converted __label__Converted',\n",
              " '__label__Non-converted __label__Converted',\n",
              " '__label__Non-converted __label__Converted',\n",
              " '__label__Non-converted __label__Converted',\n",
              " '__label__Non-converted __label__Converted',\n",
              " '__label__Non-converted __label__Converted',\n",
              " '__label__Non-converted __label__Converted',\n",
              " '__label__Non-converted __label__Converted',\n",
              " '__label__Non-converted __label__Converted',\n",
              " '__label__Non-converted __label__Converted',\n",
              " '__label__Non-converted __label__Converted',\n",
              " '__label__Non-converted __label__Converted',\n",
              " '__label__Non-converted __label__Converted',\n",
              " '__label__Non-converted __label__Converted',\n",
              " '__label__Non-converted __label__Converted',\n",
              " '__label__Non-converted __label__Converted',\n",
              " '__label__Non-converted __label__Converted',\n",
              " '__label__Non-converted __label__Converted',\n",
              " '__label__Non-converted __label__Converted',\n",
              " '__label__Non-converted __label__Converted',\n",
              " '__label__Non-converted __label__Converted',\n",
              " '__label__Non-converted __label__Converted',\n",
              " '__label__Non-converted __label__Converted',\n",
              " '__label__Non-converted __label__Converted',\n",
              " '__label__Non-converted __label__Converted',\n",
              " '__label__Non-converted __label__Converted',\n",
              " '__label__Non-converted __label__Converted',\n",
              " '__label__Non-converted __label__Converted',\n",
              " '__label__Non-converted __label__Converted',\n",
              " '__label__Non-converted __label__Converted',\n",
              " '__label__Non-converted __label__Converted',\n",
              " '__label__Non-converted __label__Converted',\n",
              " '__label__Non-converted __label__Converted',\n",
              " '__label__Non-converted __label__Converted',\n",
              " '__label__Non-converted __label__Converted',\n",
              " '__label__Non-converted __label__Converted',\n",
              " '__label__Non-converted __label__Converted',\n",
              " '__label__Non-converted __label__Converted',\n",
              " '__label__Non-converted __label__Converted',\n",
              " '__label__Non-converted __label__Converted',\n",
              " '__label__Non-converted __label__Converted',\n",
              " '__label__Non-converted __label__Converted',\n",
              " '__label__Non-converted __label__Converted',\n",
              " '__label__Non-converted __label__Converted',\n",
              " '__label__Non-converted __label__Converted',\n",
              " '__label__Non-converted __label__Converted',\n",
              " '__label__Non-converted __label__Converted',\n",
              " '__label__Non-converted __label__Converted',\n",
              " '__label__Converted __label__Non-converted',\n",
              " '__label__Non-converted __label__Converted',\n",
              " '__label__Non-converted __label__Converted',\n",
              " '__label__Non-converted __label__Converted',\n",
              " '__label__Non-converted __label__Converted',\n",
              " '__label__Non-converted __label__Converted',\n",
              " '__label__Non-converted __label__Converted',\n",
              " '__label__Non-converted __label__Converted',\n",
              " '__label__Non-converted __label__Converted',\n",
              " '__label__Non-converted __label__Converted',\n",
              " '__label__Non-converted __label__Converted',\n",
              " '__label__Non-converted __label__Converted',\n",
              " '__label__Non-converted __label__Converted',\n",
              " '__label__Non-converted __label__Converted',\n",
              " '__label__Non-converted __label__Converted',\n",
              " '__label__Non-converted __label__Converted',\n",
              " '__label__Non-converted __label__Converted',\n",
              " '__label__Non-converted __label__Converted',\n",
              " '__label__Non-converted __label__Converted',\n",
              " '__label__Non-converted __label__Converted',\n",
              " '__label__Non-converted __label__Converted',\n",
              " '__label__Non-converted __label__Converted',\n",
              " '__label__Non-converted __label__Converted',\n",
              " '__label__Non-converted __label__Converted',\n",
              " '__label__Non-converted __label__Converted',\n",
              " '__label__Non-converted __label__Converted',\n",
              " '__label__Non-converted __label__Converted',\n",
              " '__label__Non-converted __label__Converted',\n",
              " '__label__Non-converted __label__Converted',\n",
              " '__label__Non-converted __label__Converted']"
            ]
          },
          "metadata": {
            "tags": []
          },
          "execution_count": 50
        }
      ]
    },
    {
      "cell_type": "code",
      "metadata": {
        "colab": {
          "base_uri": "https://localhost:8080/"
        },
        "collapsed": true,
        "id": "IhkPxpf6CtaQ",
        "outputId": "7fcb9950-869d-4b89-99ee-905f27c12c40"
      },
      "source": [
        "## predicting propabilites of labels on test data\n",
        "!./fasttext predict-prob model_CRM.bin \"/content/drive/MyDrive/Colab DataSets/CRM_updated_test.txt\""
      ],
      "execution_count": null,
      "outputs": [
        {
          "output_type": "stream",
          "text": [
            "__label__Non-converted 0.90625\n",
            "__label__Non-converted 0.804688\n",
            "__label__Non-converted 0.878906\n",
            "__label__Non-converted 0.914062\n",
            "__label__Non-converted 0.873047\n",
            "__label__Non-converted 0.986328\n",
            "__label__Non-converted 0.96875\n",
            "__label__Non-converted 0.974609\n",
            "__label__Non-converted 0.951172\n",
            "__label__Non-converted 0.650391\n",
            "__label__Non-converted 0.998047\n",
            "__label__Non-converted 0.960938\n",
            "__label__Non-converted 0.751953\n",
            "__label__Non-converted 0.636719\n",
            "__label__Non-converted 0.945312\n",
            "__label__Non-converted 0.816406\n",
            "__label__Non-converted 0.880859\n",
            "__label__Non-converted 0.792969\n",
            "__label__Non-converted 0.960938\n",
            "__label__Non-converted 0.927734\n",
            "__label__Non-converted 0.876953\n",
            "__label__Non-converted 0.988281\n",
            "__label__Non-converted 0.933594\n",
            "__label__Non-converted 0.59375\n",
            "__label__Non-converted 0.828125\n",
            "__label__Non-converted 0.960938\n",
            "__label__Non-converted 0.859375\n",
            "__label__Non-converted 0.943359\n",
            "__label__Non-converted 0.949219\n",
            "__label__Non-converted 0.625\n",
            "__label__Non-converted 0.955078\n",
            "__label__Non-converted 0.900391\n",
            "__label__Non-converted 0.880859\n",
            "__label__Non-converted 0.90625\n",
            "__label__Non-converted 0.802734\n",
            "__label__Non-converted 0.830078\n",
            "__label__Non-converted 0.992188\n",
            "__label__Non-converted 0.923828\n",
            "__label__Non-converted 0.576172\n",
            "__label__Non-converted 0.931641\n",
            "__label__Non-converted 0.730469\n",
            "__label__Non-converted 0.726562\n",
            "__label__Non-converted 0.900391\n",
            "__label__Non-converted 0.886719\n",
            "__label__Non-converted 0.851562\n",
            "__label__Non-converted 0.837891\n",
            "__label__Non-converted 0.875\n",
            "__label__Non-converted 0.953125\n",
            "__label__Non-converted 0.923828\n",
            "__label__Non-converted 0.945312\n",
            "__label__Non-converted 0.892578\n",
            "__label__Non-converted 0.794922\n",
            "__label__Non-converted 0.953125\n",
            "__label__Non-converted 0.941406\n",
            "__label__Non-converted 0.775391\n",
            "__label__Non-converted 0.90625\n",
            "__label__Non-converted 0.777344\n",
            "__label__Non-converted 0.802734\n",
            "__label__Non-converted 0.869141\n",
            "__label__Non-converted 0.808594\n",
            "__label__Non-converted 0.986328\n",
            "__label__Non-converted 0.939453\n",
            "__label__Non-converted 0.998047\n",
            "__label__Converted 0.537109\n",
            "__label__Non-converted 0.9375\n",
            "__label__Non-converted 0.947266\n",
            "__label__Non-converted 0.949219\n",
            "__label__Non-converted 0.876953\n",
            "__label__Non-converted 0.832031\n",
            "__label__Non-converted 0.853516\n",
            "__label__Non-converted 0.994141\n",
            "__label__Non-converted 0.871094\n",
            "__label__Non-converted 0.882812\n",
            "__label__Non-converted 0.976562\n",
            "__label__Non-converted 0.943359\n",
            "__label__Non-converted 0.953125\n",
            "__label__Non-converted 0.744141\n",
            "__label__Non-converted 0.789062\n",
            "__label__Non-converted 0.9375\n",
            "__label__Non-converted 0.953125\n",
            "__label__Non-converted 0.703125\n",
            "__label__Non-converted 0.902344\n",
            "__label__Non-converted 0.933594\n",
            "__label__Non-converted 0.875\n",
            "__label__Non-converted 0.578125\n",
            "__label__Non-converted 0.917969\n",
            "__label__Non-converted 0.947266\n",
            "__label__Non-converted 0.978516\n",
            "__label__Non-converted 0.923828\n",
            "__label__Non-converted 0.960938\n",
            "__label__Non-converted 0.761719\n",
            "__label__Non-converted 0.978516\n",
            "__label__Non-converted 0.960938\n"
          ],
          "name": "stdout"
        }
      ]
    },
    {
      "cell_type": "code",
      "metadata": {
        "id": "7xKjIyEfDDzP"
      },
      "source": [
        ""
      ],
      "execution_count": null,
      "outputs": []
    },
    {
      "cell_type": "markdown",
      "metadata": {
        "id": "RNaurZi_DeHm"
      },
      "source": [
        "## Predicting vectors"
      ]
    },
    {
      "cell_type": "code",
      "metadata": {
        "colab": {
          "base_uri": "https://localhost:8080/"
        },
        "id": "7MmoJ-BlDgLQ",
        "outputId": "754c26fc-ffe5-41dc-82d2-cc743f312433"
      },
      "source": [
        "## Predicting word vectors\n",
        "word = !echo \"detail\" | ./fasttext print-word-vectors model_CRM.bin\n",
        "print(len(word))\n",
        "word"
      ],
      "execution_count": null,
      "outputs": [
        {
          "output_type": "stream",
          "text": [
            "1\n"
          ],
          "name": "stdout"
        },
        {
          "output_type": "execute_result",
          "data": {
            "text/plain": [
              "['detail -0.0049867 0.00097673 -0.0092416 -0.011601 0.014961 0.003474 -0.0064371 -0.0012215 0.0073124 0.00053589 -0.0021172 -0.0069641 -0.0034284 0.014712 0.0037631 -0.0028423 -0.0070582 -0.0032168 0.002636 0.0045277 0.0057587 0.0033304 -0.0030058 -0.00042411 -0.011314 -0.0088699 0.0010874 0.00012744 -0.011492 0.006683 -0.00023234 0.009344 0.0051144 0.0017855 -0.020417 0.0067984 0.0052616 -0.01084 0.0090553 0.0036014 0.0021529 0.014465 0.0019663 0.010715 0.015201 0.0016312 0.016453 0.009412 0.0033273 0.019434 -0.018041 9.8818e-05 0.0026208 0.010871 -0.00067375 -0.0012229 -0.0030912 0.0035679 0.012486 -0.005835 -0.0047123 -0.00036203 0.019325 -0.0041094 -0.011563 -0.006179 -0.0057472 -0.0042481 -0.012092 -0.003555 -0.0095715 0.012894 -0.0067827 -0.00255 0.0017171 0.010429 0.00025225 0.011996 0.0039944 -0.010228 -0.00058916 -0.0014737 0.015233 0.006579 0.0098039 0.0068952 4.2051e-06 0.010697 -0.0077328 -0.0067638 0.015545 -0.0034252 0.0024075 -0.0098236 -0.013191 -0.013872 -0.0080222 -0.0057162 0.0020023 -0.0097788 ']"
            ]
          },
          "metadata": {
            "tags": []
          },
          "execution_count": 54
        }
      ]
    },
    {
      "cell_type": "code",
      "metadata": {
        "colab": {
          "base_uri": "https://localhost:8080/"
        },
        "id": "fWWDZb7XD4bs",
        "outputId": "fb861697-56d6-4c62-97d0-6145147a0334"
      },
      "source": [
        "## Predicting sentence vectors\n",
        "vectors = !echo \"india gowtham not connect gowtham not cnnctng soma call unregistered number abdul rashid khan\" | ./fasttext print-sentence-vectors model_CRM.bin\n",
        "print(len(vectors))\n",
        "vectors"
      ],
      "execution_count": null,
      "outputs": [
        {
          "output_type": "stream",
          "text": [
            "1\n"
          ],
          "name": "stdout"
        },
        {
          "output_type": "execute_result",
          "data": {
            "text/plain": [
              "['0.0040013 0.0052485 0.00027418 -0.0037647 0.0067288 0.0083901 -0.002963 -0.0035127 0.0050341 0.0056505 -0.004396 0.0008108 -0.0046205 0.0023538 -0.0045057 -0.001056 -0.0037589 -0.0038753 0.00086427 -0.0011247 0.00070492 0.0051234 0.0022176 -0.003343 -0.002647 -0.0019532 0.0054507 -0.0039768 -0.0053517 0.0011365 -0.0013373 0.0045127 -0.00354 -0.0024884 -0.0066846 0.0027759 -0.0019384 -0.0012873 0.0014766 0.0020023 -0.00049954 0.0040015 0.0015701 0.0062116 0.0073573 -0.0043598 0.0065027 -0.00028372 -0.0019866 0.0085948 -0.0070289 -0.0011935 -0.0025151 0.0010506 -0.0031929 -0.00074222 -0.0015401 0.0045987 0.0048301 0.0027642 -0.0049765 0.004441 0.0077906 0.0031568 -0.0033927 -0.0023401 -0.0077551 -0.0009107 -0.0032258 0.002314 -0.0023354 0.0051734 0.0019922 -0.0016313 -0.0052516 0.00062529 0.0028336 0.0041261 0.0061958 -0.0072026 0.0049485 0.0014938 0.0040333 0.0002459 0.0070905 0.00098795 0.0015274 0.0042139 -0.0075123 -0.001259 0.0036311 0.0015332 0.010655 -0.0061756 -0.0058298 -0.0046893 -0.0053095 0.0036073 -0.0017487 -0.0081641 ']"
            ]
          },
          "metadata": {
            "tags": []
          },
          "execution_count": 55
        }
      ]
    },
    {
      "cell_type": "code",
      "metadata": {
        "id": "NkU4l-RBEYpa"
      },
      "source": [
        ""
      ],
      "execution_count": null,
      "outputs": []
    },
    {
      "cell_type": "markdown",
      "metadata": {
        "id": "PFxUT_11FCFN"
      },
      "source": [
        "## True Prediction on test data"
      ]
    },
    {
      "cell_type": "code",
      "metadata": {
        "colab": {
          "base_uri": "https://localhost:8080/"
        },
        "id": "aPitF4_kFE-L",
        "outputId": "3de5323c-bbc6-4d8c-f21b-4803ac93332f"
      },
      "source": [
        "## Predict labels for test data\n",
        "labels = !./fasttext predict model_CRM.bin \"/content/drive/MyDrive/Colab DataSets/sample_test[1].txt\"\n",
        "labels"
      ],
      "execution_count": null,
      "outputs": [
        {
          "output_type": "execute_result",
          "data": {
            "text/plain": [
              "['__label__Non-converted',\n",
              " '__label__Non-converted',\n",
              " '__label__Converted',\n",
              " '__label__Non-converted',\n",
              " '__label__Non-converted',\n",
              " '__label__Non-converted',\n",
              " '__label__Non-converted']"
            ]
          },
          "metadata": {
            "tags": []
          },
          "execution_count": 59
        }
      ]
    },
    {
      "cell_type": "code",
      "metadata": {
        "colab": {
          "base_uri": "https://localhost:8080/"
        },
        "id": "8RVgdnXBFkaC",
        "outputId": "943ec968-1a07-41e1-ef86-beff5345c7cd"
      },
      "source": [
        "!./fasttext predict-prob model_CRM.bin \"/content/drive/MyDrive/Colab DataSets/sample_test[1].txt\""
      ],
      "execution_count": null,
      "outputs": [
        {
          "output_type": "stream",
          "text": [
            "__label__Non-converted 0.619141\n",
            "__label__Non-converted 0.699219\n",
            "__label__Converted 0.710938\n",
            "__label__Non-converted 0.806641\n",
            "__label__Non-converted 0.837891\n",
            "__label__Non-converted 0.615234\n",
            "__label__Non-converted 0.875\n"
          ],
          "name": "stdout"
        }
      ]
    },
    {
      "cell_type": "code",
      "metadata": {
        "id": "nDr7iS5tIEJD"
      },
      "source": [
        ""
      ],
      "execution_count": null,
      "outputs": []
    }
  ]
}